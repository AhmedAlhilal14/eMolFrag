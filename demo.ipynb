{
  "nbformat": 4,
  "nbformat_minor": 0,
  "metadata": {
    "colab": {
      "name": "JSME_Demo.ipynb",
      "provenance": []
    },
    "kernelspec": {
      "name": "python3",
      "display_name": "Python 3"
    },
    "language_info": {
      "name": "python"
    },
    "widgets": {
      "application/vnd.jupyter.widget-state+json": {
        "386b8474359742d1861c6ead82ddc3a5": {
          "model_module": "@jupyter-widgets/controls",
          "model_name": "ButtonModel",
          "model_module_version": "1.5.0",
          "state": {
            "_dom_classes": [],
            "_model_module": "@jupyter-widgets/controls",
            "_model_module_version": "1.5.0",
            "_model_name": "ButtonModel",
            "_view_count": null,
            "_view_module": "@jupyter-widgets/controls",
            "_view_module_version": "1.5.0",
            "_view_name": "ButtonView",
            "button_style": "",
            "description": "Update SMILES",
            "disabled": false,
            "icon": "",
            "layout": "IPY_MODEL_289325e143484c2ba13fc32c59ce1026",
            "style": "IPY_MODEL_0d1b53851a5142a2b6cccdccdfcad75d",
            "tooltip": ""
          }
        },
        "289325e143484c2ba13fc32c59ce1026": {
          "model_module": "@jupyter-widgets/base",
          "model_name": "LayoutModel",
          "model_module_version": "1.2.0",
          "state": {
            "_model_module": "@jupyter-widgets/base",
            "_model_module_version": "1.2.0",
            "_model_name": "LayoutModel",
            "_view_count": null,
            "_view_module": "@jupyter-widgets/base",
            "_view_module_version": "1.2.0",
            "_view_name": "LayoutView",
            "align_content": null,
            "align_items": null,
            "align_self": null,
            "border": null,
            "bottom": null,
            "display": null,
            "flex": null,
            "flex_flow": null,
            "grid_area": null,
            "grid_auto_columns": null,
            "grid_auto_flow": null,
            "grid_auto_rows": null,
            "grid_column": null,
            "grid_gap": null,
            "grid_row": null,
            "grid_template_areas": null,
            "grid_template_columns": null,
            "grid_template_rows": null,
            "height": null,
            "justify_content": null,
            "justify_items": null,
            "left": null,
            "margin": null,
            "max_height": null,
            "max_width": null,
            "min_height": null,
            "min_width": null,
            "object_fit": null,
            "object_position": null,
            "order": null,
            "overflow": null,
            "overflow_x": null,
            "overflow_y": null,
            "padding": null,
            "right": null,
            "top": null,
            "visibility": null,
            "width": null
          }
        },
        "0d1b53851a5142a2b6cccdccdfcad75d": {
          "model_module": "@jupyter-widgets/controls",
          "model_name": "ButtonStyleModel",
          "model_module_version": "1.5.0",
          "state": {
            "_model_module": "@jupyter-widgets/controls",
            "_model_module_version": "1.5.0",
            "_model_name": "ButtonStyleModel",
            "_view_count": null,
            "_view_module": "@jupyter-widgets/base",
            "_view_module_version": "1.2.0",
            "_view_name": "StyleView",
            "button_color": null,
            "font_weight": ""
          }
        },
        "aac93b65514e48db90e67eb15870beb0": {
          "model_module": "@jupyter-widgets/controls",
          "model_name": "TextModel",
          "model_module_version": "1.5.0",
          "state": {
            "_dom_classes": [],
            "_model_module": "@jupyter-widgets/controls",
            "_model_module_version": "1.5.0",
            "_model_name": "TextModel",
            "_view_count": null,
            "_view_module": "@jupyter-widgets/controls",
            "_view_module_version": "1.5.0",
            "_view_name": "TextView",
            "continuous_update": true,
            "description": "SMILES:",
            "description_tooltip": null,
            "disabled": false,
            "layout": "IPY_MODEL_55ce67d62bd34228a823cf8da06a8aac",
            "placeholder": "​",
            "style": "IPY_MODEL_bd12e09e9dde4a49aab0e5861ac6a22b",
            "value": "C=[C+](C)(C)CO"
          }
        },
        "55ce67d62bd34228a823cf8da06a8aac": {
          "model_module": "@jupyter-widgets/base",
          "model_name": "LayoutModel",
          "model_module_version": "1.2.0",
          "state": {
            "_model_module": "@jupyter-widgets/base",
            "_model_module_version": "1.2.0",
            "_model_name": "LayoutModel",
            "_view_count": null,
            "_view_module": "@jupyter-widgets/base",
            "_view_module_version": "1.2.0",
            "_view_name": "LayoutView",
            "align_content": null,
            "align_items": null,
            "align_self": null,
            "border": null,
            "bottom": null,
            "display": null,
            "flex": null,
            "flex_flow": null,
            "grid_area": null,
            "grid_auto_columns": null,
            "grid_auto_flow": null,
            "grid_auto_rows": null,
            "grid_column": null,
            "grid_gap": null,
            "grid_row": null,
            "grid_template_areas": null,
            "grid_template_columns": null,
            "grid_template_rows": null,
            "height": null,
            "justify_content": null,
            "justify_items": null,
            "left": null,
            "margin": null,
            "max_height": null,
            "max_width": null,
            "min_height": null,
            "min_width": null,
            "object_fit": null,
            "object_position": null,
            "order": null,
            "overflow": null,
            "overflow_x": null,
            "overflow_y": null,
            "padding": null,
            "right": null,
            "top": null,
            "visibility": null,
            "width": null
          }
        },
        "bd12e09e9dde4a49aab0e5861ac6a22b": {
          "model_module": "@jupyter-widgets/controls",
          "model_name": "DescriptionStyleModel",
          "model_module_version": "1.5.0",
          "state": {
            "_model_module": "@jupyter-widgets/controls",
            "_model_module_version": "1.5.0",
            "_model_name": "DescriptionStyleModel",
            "_view_count": null,
            "_view_module": "@jupyter-widgets/base",
            "_view_module_version": "1.2.0",
            "_view_name": "StyleView",
            "description_width": ""
          }
        },
        "e583137d71364e33a6538e204bdfe0a8": {
          "model_module": "@jupyter-widgets/controls",
          "model_name": "ButtonModel",
          "model_module_version": "1.5.0",
          "state": {
            "_dom_classes": [],
            "_model_module": "@jupyter-widgets/controls",
            "_model_module_version": "1.5.0",
            "_model_name": "ButtonModel",
            "_view_count": null,
            "_view_module": "@jupyter-widgets/controls",
            "_view_module_version": "1.5.0",
            "_view_name": "ButtonView",
            "button_style": "",
            "description": "Update SMILES",
            "disabled": false,
            "icon": "",
            "layout": "IPY_MODEL_bae859569e5c4b2d84c17a78ff79ca50",
            "style": "IPY_MODEL_1192b1117a1f4fcbafe32c212491e764",
            "tooltip": ""
          }
        },
        "bae859569e5c4b2d84c17a78ff79ca50": {
          "model_module": "@jupyter-widgets/base",
          "model_name": "LayoutModel",
          "model_module_version": "1.2.0",
          "state": {
            "_model_module": "@jupyter-widgets/base",
            "_model_module_version": "1.2.0",
            "_model_name": "LayoutModel",
            "_view_count": null,
            "_view_module": "@jupyter-widgets/base",
            "_view_module_version": "1.2.0",
            "_view_name": "LayoutView",
            "align_content": null,
            "align_items": null,
            "align_self": null,
            "border": null,
            "bottom": null,
            "display": null,
            "flex": null,
            "flex_flow": null,
            "grid_area": null,
            "grid_auto_columns": null,
            "grid_auto_flow": null,
            "grid_auto_rows": null,
            "grid_column": null,
            "grid_gap": null,
            "grid_row": null,
            "grid_template_areas": null,
            "grid_template_columns": null,
            "grid_template_rows": null,
            "height": null,
            "justify_content": null,
            "justify_items": null,
            "left": null,
            "margin": null,
            "max_height": null,
            "max_width": null,
            "min_height": null,
            "min_width": null,
            "object_fit": null,
            "object_position": null,
            "order": null,
            "overflow": null,
            "overflow_x": null,
            "overflow_y": null,
            "padding": null,
            "right": null,
            "top": null,
            "visibility": null,
            "width": null
          }
        },
        "1192b1117a1f4fcbafe32c212491e764": {
          "model_module": "@jupyter-widgets/controls",
          "model_name": "ButtonStyleModel",
          "model_module_version": "1.5.0",
          "state": {
            "_model_module": "@jupyter-widgets/controls",
            "_model_module_version": "1.5.0",
            "_model_name": "ButtonStyleModel",
            "_view_count": null,
            "_view_module": "@jupyter-widgets/base",
            "_view_module_version": "1.2.0",
            "_view_name": "StyleView",
            "button_color": null,
            "font_weight": ""
          }
        },
        "d15aaac412924a9a8d68d5794e30a1a7": {
          "model_module": "@jupyter-widgets/controls",
          "model_name": "TextModel",
          "model_module_version": "1.5.0",
          "state": {
            "_dom_classes": [],
            "_model_module": "@jupyter-widgets/controls",
            "_model_module_version": "1.5.0",
            "_model_name": "TextModel",
            "_view_count": null,
            "_view_module": "@jupyter-widgets/controls",
            "_view_module_version": "1.5.0",
            "_view_name": "TextView",
            "continuous_update": true,
            "description": "SMILES:",
            "description_tooltip": null,
            "disabled": false,
            "layout": "IPY_MODEL_998ab65a6cbd400f8c9cc8e7da8b88d2",
            "placeholder": "​",
            "style": "IPY_MODEL_10e40621374a49f0b796bda3e531e7e0",
            "value": ""
          }
        },
        "998ab65a6cbd400f8c9cc8e7da8b88d2": {
          "model_module": "@jupyter-widgets/base",
          "model_name": "LayoutModel",
          "model_module_version": "1.2.0",
          "state": {
            "_model_module": "@jupyter-widgets/base",
            "_model_module_version": "1.2.0",
            "_model_name": "LayoutModel",
            "_view_count": null,
            "_view_module": "@jupyter-widgets/base",
            "_view_module_version": "1.2.0",
            "_view_name": "LayoutView",
            "align_content": null,
            "align_items": null,
            "align_self": null,
            "border": null,
            "bottom": null,
            "display": null,
            "flex": null,
            "flex_flow": null,
            "grid_area": null,
            "grid_auto_columns": null,
            "grid_auto_flow": null,
            "grid_auto_rows": null,
            "grid_column": null,
            "grid_gap": null,
            "grid_row": null,
            "grid_template_areas": null,
            "grid_template_columns": null,
            "grid_template_rows": null,
            "height": null,
            "justify_content": null,
            "justify_items": null,
            "left": null,
            "margin": null,
            "max_height": null,
            "max_width": null,
            "min_height": null,
            "min_width": null,
            "object_fit": null,
            "object_position": null,
            "order": null,
            "overflow": null,
            "overflow_x": null,
            "overflow_y": null,
            "padding": null,
            "right": null,
            "top": null,
            "visibility": null,
            "width": null
          }
        },
        "10e40621374a49f0b796bda3e531e7e0": {
          "model_module": "@jupyter-widgets/controls",
          "model_name": "DescriptionStyleModel",
          "model_module_version": "1.5.0",
          "state": {
            "_model_module": "@jupyter-widgets/controls",
            "_model_module_version": "1.5.0",
            "_model_name": "DescriptionStyleModel",
            "_view_count": null,
            "_view_module": "@jupyter-widgets/base",
            "_view_module_version": "1.2.0",
            "_view_name": "StyleView",
            "description_width": ""
          }
        },
        "e3c1e0fb1aab4018b3d6975e05a095e1": {
          "model_module": "@jupyter-widgets/output",
          "model_name": "OutputModel",
          "model_module_version": "1.0.0",
          "state": {
            "_dom_classes": [],
            "_model_module": "@jupyter-widgets/output",
            "_model_module_version": "1.0.0",
            "_model_name": "OutputModel",
            "_view_count": null,
            "_view_module": "@jupyter-widgets/output",
            "_view_module_version": "1.0.0",
            "_view_name": "OutputView",
            "layout": "IPY_MODEL_7778a22bedf9491981e69ad5df326fce",
            "msg_id": "",
            "outputs": [
              {
                "output_type": "stream",
                "name": "stdout",
                "text": [
                  "Error: No 'SMILES' column found in the CSV file.\n"
                ]
              }
            ]
          }
        },
        "7778a22bedf9491981e69ad5df326fce": {
          "model_module": "@jupyter-widgets/base",
          "model_name": "LayoutModel",
          "model_module_version": "1.2.0",
          "state": {
            "_model_module": "@jupyter-widgets/base",
            "_model_module_version": "1.2.0",
            "_model_name": "LayoutModel",
            "_view_count": null,
            "_view_module": "@jupyter-widgets/base",
            "_view_module_version": "1.2.0",
            "_view_name": "LayoutView",
            "align_content": null,
            "align_items": null,
            "align_self": null,
            "border": null,
            "bottom": null,
            "display": null,
            "flex": null,
            "flex_flow": null,
            "grid_area": null,
            "grid_auto_columns": null,
            "grid_auto_flow": null,
            "grid_auto_rows": null,
            "grid_column": null,
            "grid_gap": null,
            "grid_row": null,
            "grid_template_areas": null,
            "grid_template_columns": null,
            "grid_template_rows": null,
            "height": null,
            "justify_content": null,
            "justify_items": null,
            "left": null,
            "margin": null,
            "max_height": null,
            "max_width": null,
            "min_height": null,
            "min_width": null,
            "object_fit": null,
            "object_position": null,
            "order": null,
            "overflow": null,
            "overflow_x": null,
            "overflow_y": null,
            "padding": null,
            "right": null,
            "top": null,
            "visibility": null,
            "width": null
          }
        }
      }
    }
  },
  "cells": [
    {
      "cell_type": "code",
      "execution_count": 1,
      "metadata": {
        "id": "h9b_UWHDY89B",
        "outputId": "7c3075af-cc78-47ee-d946-4803fc10babd",
        "colab": {
          "base_uri": "https://localhost:8080/"
        }
      },
      "outputs": [
        {
          "output_type": "stream",
          "name": "stdout",
          "text": [
            "Collecting jsme_notebook\n",
            "  Downloading jsme_notebook-0.1.4.tar.gz (6.0 kB)\n",
            "  Preparing metadata (setup.py) ... \u001b[?25l\u001b[?25hdone\n",
            "Building wheels for collected packages: jsme_notebook\n",
            "  Building wheel for jsme_notebook (setup.py) ... \u001b[?25l\u001b[?25hdone\n",
            "  Created wheel for jsme_notebook: filename=jsme_notebook-0.1.4-py3-none-any.whl size=4464 sha256=10350e8f95493c941a8cc82cd00c08b6443d498d1e2fa39eeb44924497e715cd\n",
            "  Stored in directory: /root/.cache/pip/wheels/87/53/5d/61579bc1b8c4289f4a830b40b0fa6bff3c21fd65a4669f9583\n",
            "Successfully built jsme_notebook\n",
            "Installing collected packages: jsme_notebook\n",
            "Successfully installed jsme_notebook-0.1.4\n"
          ]
        }
      ],
      "source": [
        "## Demo from https://github.com/matteoferla/JSME_notebook\n",
        "!pip install jsme_notebook"
      ]
    },
    {
      "cell_type": "code",
      "source": [
        "# Basic usage\n",
        "from jsme_notebook import JSMENotebook\n",
        "smiles = 'CCCO' #@param {type:\"string\"}\n",
        "jsme = JSMENotebook(smiles)\n",
        "print('Change the molecule!')\n",
        "jsme.smiles"
      ],
      "metadata": {
        "id": "_7pePXCgZFDX",
        "outputId": "8162ac9b-92cd-4109-84e3-3c190826e726",
        "colab": {
          "base_uri": "https://localhost:8080/",
          "height": 374
        }
      },
      "execution_count": 14,
      "outputs": [
        {
          "output_type": "display_data",
          "data": {
            "text/plain": [
              "<IPython.core.display.HTML object>"
            ],
            "text/html": [
              "<script type=\"text/javascript\" language=\"javascript\" src=\"https://users.ox.ac.uk/~bioc1451/jsme/jsme.nocache.js\"></script><script>window.smiles = \"CCCO\";\n",
              " window.py_obj_id = 134543465310288;\n",
              "window.container_id = \"jsme_container_8408966581893\";\n",
              "window.py_class_name = \"JSMENotebook\";\n",
              "window.desired_height = \"340px\";\n",
              "window.desired_width = \"380px\";\n",
              "\n",
              "                     //this function will be called after the JavaScriptApplet code has been loaded.\n",
              "                         function jsmeOnLoad() {\n",
              "                             const params = {smiles: smiles || undefined};\n",
              "                             const jsmeApplet = new JSApplet.JSME(window.container_id, \n",
              "                                                                  window.desired_width,\n",
              "                                                                  window.desired_height, \n",
              "                                                                  params);\n",
              "                             window.jsmeApplet = jsmeApplet;\n",
              "                             jsmeApplet.setCallBack(\"AfterStructureModified\", async (jsme) => {\n",
              "                               smiles = jsmeApplet.smiles();\n",
              "                               // in Jupyter this is called output_area. Colab #output-area\n",
              "                               // let el = document.createElement('div');\n",
              "                               // el.textContent = smiles\n",
              "                               // document.querySelector(\"#output_area,#output-area\").appendChild(el);\n",
              "                               if (window.google !== undefined) {\n",
              "                                 await google.colab.kernel.invokeFunction('notebook.set_smiles', [smiles]);\n",
              "                              } else if (window.Jupyter !== undefined) {\n",
              "                              console.log(`JSMEHack.get_by_id(${py_obj_id}).smiles = '${smiles}'`);\n",
              "                             Jupyter.notebook.kernel.execute(`${py_class_name}.get_by_id(${py_obj_id}).smiles = '${smiles}'`);\n",
              "                               }\n",
              "                               else {throw \"Unknown environment\";}\n",
              "                             });\n",
              "                       }\n",
              "                     </script><div id=\"jsme_container_8408966581893\"></div>"
            ]
          },
          "metadata": {}
        },
        {
          "output_type": "stream",
          "name": "stdout",
          "text": [
            "Change the molecule!\n"
          ]
        }
      ]
    },
    {
      "cell_type": "code",
      "source": [
        "from jsme_notebook import JSMENotebook\n",
        "import ipywidgets as widgets\n",
        "from IPython.display import display\n",
        "\n",
        "# Initial SMILES string\n",
        "smiles = 'CCCO'\n",
        "\n",
        "# Create JSME molecule editor widget\n",
        "jsme = JSMENotebook(smiles)\n",
        "\n",
        "# Create a text widget to display and update SMILES\n",
        "smiles_output = widgets.Text(value=smiles, description=\"SMILES:\")\n",
        "\n",
        "# Function to update the SMILES output when JSME updates\n",
        "def update_smiles(change):\n",
        "    smiles_output.value = jsme.smiles  # Get updated SMILES from JSME\n",
        "\n",
        "# Button to manually trigger SMILES update\n",
        "update_button = widgets.Button(description=\"Update SMILES\")\n",
        "\n",
        "# Bind button click to update function\n",
        "update_button.on_click(update_smiles)\n",
        "\n",
        "# Display widgets\n",
        "display(jsme, update_button, smiles_output)\n"
      ],
      "metadata": {
        "id": "tatE9OvzN6Bx",
        "outputId": "4226ce49-37b1-48fd-add0-5a7fa5763767",
        "colab": {
          "base_uri": "https://localhost:8080/",
          "height": 438,
          "referenced_widgets": [
            "386b8474359742d1861c6ead82ddc3a5",
            "289325e143484c2ba13fc32c59ce1026",
            "0d1b53851a5142a2b6cccdccdfcad75d",
            "aac93b65514e48db90e67eb15870beb0",
            "55ce67d62bd34228a823cf8da06a8aac",
            "bd12e09e9dde4a49aab0e5861ac6a22b"
          ]
        }
      },
      "execution_count": 22,
      "outputs": [
        {
          "output_type": "display_data",
          "data": {
            "text/plain": [
              "<IPython.core.display.HTML object>"
            ],
            "text/html": [
              "<script type=\"text/javascript\" language=\"javascript\" src=\"https://users.ox.ac.uk/~bioc1451/jsme/jsme.nocache.js\"></script><script>window.smiles = \"CCCO\";\n",
              " window.py_obj_id = 134543464463056;\n",
              "window.container_id = \"jsme_container_8408966528941\";\n",
              "window.py_class_name = \"JSMENotebook\";\n",
              "window.desired_height = \"340px\";\n",
              "window.desired_width = \"380px\";\n",
              "\n",
              "                     //this function will be called after the JavaScriptApplet code has been loaded.\n",
              "                         function jsmeOnLoad() {\n",
              "                             const params = {smiles: smiles || undefined};\n",
              "                             const jsmeApplet = new JSApplet.JSME(window.container_id, \n",
              "                                                                  window.desired_width,\n",
              "                                                                  window.desired_height, \n",
              "                                                                  params);\n",
              "                             window.jsmeApplet = jsmeApplet;\n",
              "                             jsmeApplet.setCallBack(\"AfterStructureModified\", async (jsme) => {\n",
              "                               smiles = jsmeApplet.smiles();\n",
              "                               // in Jupyter this is called output_area. Colab #output-area\n",
              "                               // let el = document.createElement('div');\n",
              "                               // el.textContent = smiles\n",
              "                               // document.querySelector(\"#output_area,#output-area\").appendChild(el);\n",
              "                               if (window.google !== undefined) {\n",
              "                                 await google.colab.kernel.invokeFunction('notebook.set_smiles', [smiles]);\n",
              "                              } else if (window.Jupyter !== undefined) {\n",
              "                              console.log(`JSMEHack.get_by_id(${py_obj_id}).smiles = '${smiles}'`);\n",
              "                             Jupyter.notebook.kernel.execute(`${py_class_name}.get_by_id(${py_obj_id}).smiles = '${smiles}'`);\n",
              "                               }\n",
              "                               else {throw \"Unknown environment\";}\n",
              "                             });\n",
              "                       }\n",
              "                     </script><div id=\"jsme_container_8408966528941\"></div>"
            ]
          },
          "metadata": {}
        },
        {
          "output_type": "display_data",
          "data": {
            "text/plain": [
              "<jsme_notebook.JSMENotebook at 0x7a5dd767fad0>"
            ]
          },
          "metadata": {}
        },
        {
          "output_type": "display_data",
          "data": {
            "text/plain": [
              "Button(description='Update SMILES', style=ButtonStyle())"
            ],
            "application/vnd.jupyter.widget-view+json": {
              "version_major": 2,
              "version_minor": 0,
              "model_id": "386b8474359742d1861c6ead82ddc3a5"
            }
          },
          "metadata": {}
        },
        {
          "output_type": "display_data",
          "data": {
            "text/plain": [
              "Text(value='CCCO', description='SMILES:')"
            ],
            "application/vnd.jupyter.widget-view+json": {
              "version_major": 2,
              "version_minor": 0,
              "model_id": "aac93b65514e48db90e67eb15870beb0"
            }
          },
          "metadata": {}
        }
      ]
    },
    {
      "cell_type": "code",
      "source": [
        "from jsme_notebook import JSMENotebook\n",
        "import ipywidgets as widgets\n",
        "from IPython.display import display\n",
        "import pandas as pd\n",
        "\n",
        "# Load the CSV file (Ensure the file is in the same directory)\n",
        "file_path = \"train_with_fp (1).csv\"  # Update with the correct path if needed\n",
        "df = pd.read_csv(file_path)\n",
        "\n",
        "# Create JSME molecule editor widget\n",
        "smiles = 'CCC(=O)N1CCc2cc(CNC(=O)c3ccccc3C)ccc21'\n",
        "jsme = JSMENotebook(smiles)\n",
        "\n",
        "# Create a text widget to display and update SMILES\n",
        "smiles_output = widgets.Text(value=smiles, description=\"SMILES:\")\n",
        "\n",
        "# Create output area to show \"Yes\" or \"No\"\n",
        "output = widgets.Output()\n",
        "\n",
        "# Function to update the SMILES output when JSME updates\n",
        "def update_smiles(change):\n",
        "    updated_smiles = jsme.smiles  # Get updated SMILES from JSME\n",
        "    smiles_output.value = updated_smiles  # Display updated SMILES\n",
        "\n",
        "    # Check if SMILES exists in CSV\n",
        "    check_smiles(updated_smiles)\n",
        "\n",
        "# Function to check if a SMILES string exists in the CSV\n",
        "def check_smiles(smiles):\n",
        "    with output:\n",
        "        output.clear_output(wait=True)  # Clear previous output\n",
        "        if \"SMILES\" not in df.columns:\n",
        "            print(\"Error: No 'SMILES' column found in the CSV file.\")\n",
        "            return\n",
        "\n",
        "        if smiles in df[\"SMILES\"].values:\n",
        "            print(\"Yes\")  # SMILES exists in the file\n",
        "        else:\n",
        "            print(\"No\")  # SMILES not found\n",
        "\n",
        "# Button to manually trigger SMILES update and check\n",
        "update_button = widgets.Button(description=\"Update SMILES\")\n",
        "\n",
        "# Bind button click to update function\n",
        "update_button.on_click(update_smiles)\n",
        "\n",
        "# Display widgets\n",
        "display(jsme, update_button, smiles_output, output)\n"
      ],
      "metadata": {
        "id": "Kh-ND7njOooZ",
        "outputId": "8a0c8a41-c4ec-495f-da29-8190792cb603",
        "colab": {
          "base_uri": "https://localhost:8080/",
          "height": 456,
          "referenced_widgets": [
            "e583137d71364e33a6538e204bdfe0a8",
            "bae859569e5c4b2d84c17a78ff79ca50",
            "1192b1117a1f4fcbafe32c212491e764",
            "d15aaac412924a9a8d68d5794e30a1a7",
            "998ab65a6cbd400f8c9cc8e7da8b88d2",
            "10e40621374a49f0b796bda3e531e7e0",
            "e3c1e0fb1aab4018b3d6975e05a095e1",
            "7778a22bedf9491981e69ad5df326fce"
          ]
        }
      },
      "execution_count": 28,
      "outputs": [
        {
          "output_type": "display_data",
          "data": {
            "text/plain": [
              "<IPython.core.display.HTML object>"
            ],
            "text/html": [
              "<script type=\"text/javascript\" language=\"javascript\" src=\"https://users.ox.ac.uk/~bioc1451/jsme/jsme.nocache.js\"></script><script>window.smiles = \"CCC(=O)N1CCc2cc(CNC(=O)c3ccccc3C)ccc21\";\n",
              " window.py_obj_id = 134542598775632;\n",
              "window.container_id = \"jsme_container_8408912423477\";\n",
              "window.py_class_name = \"JSMENotebook\";\n",
              "window.desired_height = \"340px\";\n",
              "window.desired_width = \"380px\";\n",
              "\n",
              "                     //this function will be called after the JavaScriptApplet code has been loaded.\n",
              "                         function jsmeOnLoad() {\n",
              "                             const params = {smiles: smiles || undefined};\n",
              "                             const jsmeApplet = new JSApplet.JSME(window.container_id, \n",
              "                                                                  window.desired_width,\n",
              "                                                                  window.desired_height, \n",
              "                                                                  params);\n",
              "                             window.jsmeApplet = jsmeApplet;\n",
              "                             jsmeApplet.setCallBack(\"AfterStructureModified\", async (jsme) => {\n",
              "                               smiles = jsmeApplet.smiles();\n",
              "                               // in Jupyter this is called output_area. Colab #output-area\n",
              "                               // let el = document.createElement('div');\n",
              "                               // el.textContent = smiles\n",
              "                               // document.querySelector(\"#output_area,#output-area\").appendChild(el);\n",
              "                               if (window.google !== undefined) {\n",
              "                                 await google.colab.kernel.invokeFunction('notebook.set_smiles', [smiles]);\n",
              "                              } else if (window.Jupyter !== undefined) {\n",
              "                              console.log(`JSMEHack.get_by_id(${py_obj_id}).smiles = '${smiles}'`);\n",
              "                             Jupyter.notebook.kernel.execute(`${py_class_name}.get_by_id(${py_obj_id}).smiles = '${smiles}'`);\n",
              "                               }\n",
              "                               else {throw \"Unknown environment\";}\n",
              "                             });\n",
              "                       }\n",
              "                     </script><div id=\"jsme_container_8408912423477\"></div>"
            ]
          },
          "metadata": {}
        },
        {
          "output_type": "display_data",
          "data": {
            "text/plain": [
              "<jsme_notebook.JSMENotebook at 0x7a5da3cea350>"
            ]
          },
          "metadata": {}
        },
        {
          "output_type": "display_data",
          "data": {
            "text/plain": [
              "Button(description='Update SMILES', style=ButtonStyle())"
            ],
            "application/vnd.jupyter.widget-view+json": {
              "version_major": 2,
              "version_minor": 0,
              "model_id": "e583137d71364e33a6538e204bdfe0a8"
            }
          },
          "metadata": {}
        },
        {
          "output_type": "display_data",
          "data": {
            "text/plain": [
              "Text(value='CCC(=O)N1CCc2cc(CNC(=O)c3ccccc3C)ccc21', description='SMILES:')"
            ],
            "application/vnd.jupyter.widget-view+json": {
              "version_major": 2,
              "version_minor": 0,
              "model_id": "d15aaac412924a9a8d68d5794e30a1a7"
            }
          },
          "metadata": {}
        },
        {
          "output_type": "display_data",
          "data": {
            "text/plain": [
              "Output()"
            ],
            "application/vnd.jupyter.widget-view+json": {
              "version_major": 2,
              "version_minor": 0,
              "model_id": "e3c1e0fb1aab4018b3d6975e05a095e1"
            }
          },
          "metadata": {}
        }
      ]
    },
    {
      "cell_type": "code",
      "source": [
        "jsme.smiles"
      ],
      "metadata": {
        "id": "wXd9LzVDZHIv",
        "outputId": "8b1cc642-45b9-48f9-9440-1cba3d6c811d",
        "colab": {
          "base_uri": "https://localhost:8080/",
          "height": 35
        }
      },
      "execution_count": 18,
      "outputs": [
        {
          "output_type": "execute_result",
          "data": {
            "text/plain": [
              "'CCC(C)C(C)[O+](C)C'"
            ],
            "application/vnd.google.colaboratory.intrinsic+json": {
              "type": "string"
            }
          },
          "metadata": {},
          "execution_count": 18
        }
      ]
    },
    {
      "cell_type": "code",
      "execution_count": 4,
      "outputs": [
        {
          "output_type": "stream",
          "name": "stdout",
          "text": [
            "Collecting singledispatchmethod\n",
            "  Downloading singledispatchmethod-1.0-py2.py3-none-any.whl.metadata (3.6 kB)\n",
            "Collecting rdkit-pypi\n",
            "  Downloading rdkit_pypi-2022.9.5-cp311-cp311-manylinux_2_17_x86_64.manylinux2014_x86_64.whl.metadata (3.9 kB)\n",
            "Requirement already satisfied: numpy in /usr/local/lib/python3.11/dist-packages (from rdkit-pypi) (1.26.4)\n",
            "Requirement already satisfied: Pillow in /usr/local/lib/python3.11/dist-packages (from rdkit-pypi) (11.1.0)\n",
            "Downloading singledispatchmethod-1.0-py2.py3-none-any.whl (4.7 kB)\n",
            "Downloading rdkit_pypi-2022.9.5-cp311-cp311-manylinux_2_17_x86_64.manylinux2014_x86_64.whl (29.4 MB)\n",
            "\u001b[2K   \u001b[90m━━━━━━━━━━━━━━━━━━━━━━━━━━━━━━━━━━━━━━━━\u001b[0m \u001b[32m29.4/29.4 MB\u001b[0m \u001b[31m19.4 MB/s\u001b[0m eta \u001b[36m0:00:00\u001b[0m\n",
            "\u001b[?25hInstalling collected packages: singledispatchmethod, rdkit-pypi\n",
            "Successfully installed rdkit-pypi-2022.9.5 singledispatchmethod-1.0\n"
          ]
        },
        {
          "output_type": "display_data",
          "data": {
            "text/plain": [
              "<IPython.core.display.HTML object>"
            ],
            "text/html": [
              "<script type=\"text/javascript\" language=\"javascript\" src=\"https://users.ox.ac.uk/~bioc1451/jsme/jsme.nocache.js\"></script><script>window.smiles = \"CCO\";\n",
              " window.py_obj_id = 134543454026576;\n",
              "window.container_id = \"jsme_container_8408965876661\";\n",
              "window.py_class_name = \"JSMERDKit\";\n",
              "window.desired_height = \"340px\";\n",
              "window.desired_width = \"380px\";\n",
              "\n",
              "                     //this function will be called after the JavaScriptApplet code has been loaded.\n",
              "                         function jsmeOnLoad() {\n",
              "                             const params = {smiles: smiles || undefined};\n",
              "                             const jsmeApplet = new JSApplet.JSME(window.container_id, \n",
              "                                                                  window.desired_width,\n",
              "                                                                  window.desired_height, \n",
              "                                                                  params);\n",
              "                             window.jsmeApplet = jsmeApplet;\n",
              "                             jsmeApplet.setCallBack(\"AfterStructureModified\", async (jsme) => {\n",
              "                               smiles = jsmeApplet.smiles();\n",
              "                               // in Jupyter this is called output_area. Colab #output-area\n",
              "                               // let el = document.createElement('div');\n",
              "                               // el.textContent = smiles\n",
              "                               // document.querySelector(\"#output_area,#output-area\").appendChild(el);\n",
              "                               if (window.google !== undefined) {\n",
              "                                 await google.colab.kernel.invokeFunction('notebook.set_smiles', [smiles]);\n",
              "                              } else if (window.Jupyter !== undefined) {\n",
              "                              console.log(`JSMEHack.get_by_id(${py_obj_id}).smiles = '${smiles}'`);\n",
              "                             Jupyter.notebook.kernel.execute(`${py_class_name}.get_by_id(${py_obj_id}).smiles = '${smiles}'`);\n",
              "                               }\n",
              "                               else {throw \"Unknown environment\";}\n",
              "                             });\n",
              "                       }\n",
              "                     </script><div id=\"jsme_container_8408965876661\"></div>"
            ]
          },
          "metadata": {}
        }
      ],
      "source": [
        "# RDKit variant\n",
        "!pip install singledispatchmethod rdkit-pypi\n",
        "from rdkit import Chem\n",
        "\n",
        "from jsme_notebook.rdkit import JSMERDKit\n",
        "\n",
        "mol = Chem.MolFromSmiles(smiles)\n",
        "\n",
        "rd_jsme = JSMERDKit(mol)"
      ],
      "metadata": {
        "pycharm": {
          "name": "#%%\n"
        },
        "id": "vI2T0ikBMLFN",
        "outputId": "7019581d-ae79-47a4-ecd9-3409f56257b5",
        "colab": {
          "base_uri": "https://localhost:8080/",
          "height": 548
        }
      }
    },
    {
      "cell_type": "code",
      "execution_count": 5,
      "outputs": [
        {
          "output_type": "execute_result",
          "data": {
            "text/plain": [
              "<rdkit.Chem.rdchem.Mol at 0x7a5dd73a6a40>"
            ],
            "image/png": "[encoded data removed]"
          },
          "metadata": {},
          "execution_count": 5
        }
      ],
      "source": [
        "# manual activation of IPython console for rRDKit\n",
        "from rdkit.Chem.Draw import IPythonConsole\n",
        "rd_jsme.mol"
      ],
      "metadata": {
        "pycharm": {
          "name": "#%%\n"
        },
        "id": "HNiAA1szMLFN",
        "outputId": "a78c6120-6cf1-4505-add6-b39c3df0c1e9",
        "colab": {
          "base_uri": "https://localhost:8080/",
          "height": 167
        }
      }
    }
  ]
}